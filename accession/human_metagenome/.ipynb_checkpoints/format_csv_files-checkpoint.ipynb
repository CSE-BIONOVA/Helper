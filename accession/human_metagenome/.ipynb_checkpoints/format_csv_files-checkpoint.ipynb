{
 "cells": [
  {
   "cell_type": "code",
   "execution_count": 1,
   "metadata": {},
   "outputs": [
    {
     "name": "stdout",
     "output_type": "stream",
     "text": [
      "[['GCA_027604085.1\\tChytriomyces hyalinus\\t\"GCA_027604085.1', 'Chytriomyces hyalinus\"', 'Fungi'], ['GCA_900079185.1\\tAbsidia glauca\\t\"GCA_900079185.1', 'Absidia glauca\"', ''], ['GCA_023512895.1\\tRhizomucor pusillus\\t\"GCA_023512895.1', 'Rhizomucor pusillus\"', ''], ['GCA_027405735.1\\tMucor racemosus\\t\"GCA_027405735.1', 'Mucor racemosus\"', ''], ['GCA_003325415.1\\tRhizopus stolonifer\\t\"GCA_003325415.1', 'Rhizopus stolonifer\"', ''], ['GCA_025331445.1\\tBlakeslea trispora\\t\"GCA_025331445.1', 'Blakeslea trispora\"', ''], ['GCA_025766245.1\\tCoemansia mojavensis\\t\"GCA_025766245.1', 'Coemansia mojavensis\"', ''], ['GCA_027576915.1\\tDipsacomyces acuminosporus\\t\"GCA_027576915.1', 'Dipsacomyces acuminosporus\"', ''], ['GCA_027575855.1\\tLinderina macrospora\\t\"GCA_027575855.1', 'Linderina macrospora\"', ''], ['GCA_009809945.1\\tGigaspora margarita\\t\"GCA_009809945.1', 'Gigaspora margarita\"', '']]\n"
     ]
    }
   ],
   "source": [
    "import csv\n",
    "\n",
    "filename = \"genome_list.csv\"\n",
    "\n",
    "with open(filename, \"r\") as file:\n",
    "    reader = csv.reader(file)\n",
    "    fungi_lines = list(reader)[1:2001]  # Read lines 2 to 2001\n"
   ]
  },
  {
   "cell_type": "code",
   "execution_count": null,
   "metadata": {},
   "outputs": [],
   "source": []
  }
 ],
 "metadata": {
  "kernelspec": {
   "display_name": "Python 3 (ipykernel)",
   "language": "python",
   "name": "python3"
  },
  "language_info": {
   "codemirror_mode": {
    "name": "ipython",
    "version": 3
   },
   "file_extension": ".py",
   "mimetype": "text/x-python",
   "name": "python",
   "nbconvert_exporter": "python",
   "pygments_lexer": "ipython3",
   "version": "3.11.4"
  }
 },
 "nbformat": 4,
 "nbformat_minor": 2
}
