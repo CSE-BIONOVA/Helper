{
 "cells": [
  {
   "cell_type": "code",
   "execution_count": 95,
   "metadata": {},
   "outputs": [],
   "source": [
    "import csv\n",
    "import pandas as pd\n",
    "import warnings\n",
    "\n",
    "warnings.filterwarnings('ignore')\n",
    "\n",
    "filename = \"genome_list.csv\"\n",
    "fungi=\"fungi_filenames.txt\"\n",
    "protozoa=\"protozoa_filenames.txt\"\n",
    "archaea = \"archaea_filenames.txt\"\n",
    "virus = \"virus_accession.txt\"\n",
    "bacteria = pd.read_csv(\"bacteria_accession.csv\")\n"
   ]
  },
  {
   "cell_type": "code",
   "execution_count": 96,
   "metadata": {},
   "outputs": [],
   "source": [
    "fungi_list = []\n",
    "with open(fungi, 'r') as f_file:\n",
    "    f_reader = csv.reader(f_file)\n",
    "    for f in f_reader:\n",
    "        fungi_list.append(' '.join(f))\n",
    "\n",
    "protozoa_list = []\n",
    "with open(protozoa, 'r') as p_file:\n",
    "    p_reader = csv.reader(p_file)\n",
    "    for p in p_reader:\n",
    "        protozoa_list.append(' '.join(p))\n",
    "\n",
    "archaea_list = []\n",
    "with open(archaea, 'r') as a_file:\n",
    "    a_reader = csv.reader(a_file)\n",
    "    for a in a_reader:\n",
    "        archaea_list.append(' '.join(a))\n",
    "\n",
    "virus_list = []\n",
    "with open(virus, 'r') as v_file:\n",
    "    v_reader = csv.reader(v_file)\n",
    "    for v in v_reader:\n",
    "        virus_list.append(' '.join(v))\n",
    "\n",
    "bacteria_list = bacteria.iloc[:, 0].values"
   ]
  },
  {
   "cell_type": "code",
   "execution_count": 97,
   "metadata": {},
   "outputs": [],
   "source": [
    "dna_list = pd.DataFrame()\n",
    "host = pd.DataFrame({0:\"GRCh38\" , 1:\"../../Genome/Human/ncbi_dataset/data/GCF_000001405.40/GCF_000001405.40_GRCh38.p14_genomic.fna\"}, index=[0])\n",
    "dna_list = pd.concat([dna_list, host], ignore_index=True)\n",
    "\n"
   ]
  },
  {
   "cell_type": "code",
   "execution_count": 98,
   "metadata": {},
   "outputs": [],
   "source": [
    "for i in range(2000):\n",
    "    f = fungi_list[i]\n",
    "    x = '_'.join(f.split('_')[0:2])\n",
    "    fungi = pd.DataFrame({0: x, 1: f\"../../Genome/Fungi/{f}\"}, index=[0])\n",
    "    dna_list = pd.concat([dna_list, fungi], ignore_index=True)"
   ]
  },
  {
   "cell_type": "code",
   "execution_count": 99,
   "metadata": {},
   "outputs": [],
   "source": [
    "for j in range(500):\n",
    "    p = protozoa_list[j]\n",
    "    x = '_'.join(p.split('_')[0:2])\n",
    "    protozoa = pd.DataFrame({0: x , 1:f\"../../Genome/Protozoa/{p}\"}, index=[0])\n",
    "    dna_list = pd.concat([dna_list, protozoa], ignore_index=True)"
   ]
  },
  {
   "cell_type": "code",
   "execution_count": 100,
   "metadata": {},
   "outputs": [],
   "source": [
    "for k in range(1000):\n",
    "    a = archaea_list[k]\n",
    "    x = '_'.join(a.split('_')[0:2])\n",
    "    archaea = pd.DataFrame({0: x , 1:f\"../../Genome/Archaea/{a}\"}, index=[0])\n",
    "    dna_list = pd.concat([dna_list, archaea], ignore_index=True)"
   ]
  },
  {
   "cell_type": "code",
   "execution_count": 101,
   "metadata": {},
   "outputs": [],
   "source": [
    "for l in range(3000):\n",
    "    v = virus_list[l]\n",
    "    virus = pd.DataFrame({0:v, 1:f\"../../Genome/Virus/{v}.fna\"}, index=[0])\n",
    "    dna_list = pd.concat([dna_list, virus], ignore_index=True)"
   ]
  },
  {
   "cell_type": "code",
   "execution_count": 102,
   "metadata": {},
   "outputs": [
    {
     "name": "stdout",
     "output_type": "stream",
     "text": [
      "                     0                                                  1\n",
      "0               GRCh38  ../../Genome/Human/ncbi_dataset/data/GCF_00000...\n",
      "1      GCA_000001985.1  ../../Genome/Fungi/GCA_000001985.1_JCVI-PMFA1-...\n",
      "2      GCA_000002495.2  ../../Genome/Fungi/GCA_000002495.2_MG8_genomic...\n",
      "3      GCA_000002525.1  ../../Genome/Fungi/GCA_000002525.1_ASM252v1_ge...\n",
      "4      GCA_000002655.1  ../../Genome/Fungi/GCA_000002655.1_ASM265v1_ge...\n",
      "...                ...                                                ...\n",
      "10496  GCA_900639495.1          ../../Genome/Bacteria/GCA_900639495.1.fna\n",
      "10497  GCA_016882045.1          ../../Genome/Bacteria/GCA_016882045.1.fna\n",
      "10498  GCA_900118575.1          ../../Genome/Bacteria/GCA_900118575.1.fna\n",
      "10499  GCA_013357445.1          ../../Genome/Bacteria/GCA_013357445.1.fna\n",
      "10500  GCA_000755525.1          ../../Genome/Bacteria/GCA_000755525.1.fna\n",
      "\n",
      "[10501 rows x 2 columns]\n"
     ]
    }
   ],
   "source": [
    "for m in range(4000):\n",
    "    b = bacteria_list[m]\n",
    "    bacteria = pd.DataFrame({0:b, 1:f\"../../Genome/Bacteria/{b}.fna\"}, index=[0])\n",
    "    dna_list = pd.concat([dna_list, bacteria], ignore_index=True)\n",
    "\n",
    "print(dna_list)"
   ]
  },
  {
   "cell_type": "code",
   "execution_count": 103,
   "metadata": {},
   "outputs": [],
   "source": [
    "dna_list.to_csv('dna_list.csv', index=False, header=False)\n"
   ]
  }
 ],
 "metadata": {
  "kernelspec": {
   "display_name": "Python 3 (ipykernel)",
   "language": "python",
   "name": "python3"
  },
  "language_info": {
   "codemirror_mode": {
    "name": "ipython",
    "version": 3
   },
   "file_extension": ".py",
   "mimetype": "text/x-python",
   "name": "python",
   "nbconvert_exporter": "python",
   "pygments_lexer": "ipython3",
   "version": "3.11.4"
  }
 },
 "nbformat": 4,
 "nbformat_minor": 2
}
